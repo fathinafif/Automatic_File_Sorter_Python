{
 "cells": [
  {
   "cell_type": "markdown",
   "id": "b641948c",
   "metadata": {},
   "source": [
    "# Automatic File Sorter in File Explorer"
   ]
  },
  {
   "cell_type": "code",
   "execution_count": 1,
   "id": "213643c0",
   "metadata": {},
   "outputs": [],
   "source": [
    "import os\n",
    "import shutil"
   ]
  },
  {
   "cell_type": "markdown",
   "id": "1e839b68",
   "metadata": {},
   "source": [
    "**Make input features for input file directories**"
   ]
  },
  {
   "cell_type": "code",
   "execution_count": 2,
   "id": "e48b3d67",
   "metadata": {},
   "outputs": [],
   "source": [
    "ipath = input(str(\"Input your file directories link: \"))\n",
    "fipath = ipath.replace (\"\\\\\", \"/\") + \"/\"\n",
    "path = (fipath)"
   ]
  },
  {
   "cell_type": "markdown",
   "id": "72e5efd8",
   "metadata": {},
   "source": [
    "**Make Tuples for data of extension file**"
   ]
  },
  {
   "cell_type": "code",
   "execution_count": 3,
   "id": "f5d62f69",
   "metadata": {},
   "outputs": [],
   "source": [
    "\n",
    "audio = (\".3ga\", \".aac\", \".ac3\", \".aif\", \".aiff\",\n",
    "         \".alac\", \".amr\", \".ape\", \".au\", \".dss\",\n",
    "         \".flac\", \".flv\", \".m4a\", \".m4b\", \".m4p\",\n",
    "         \".mp3\", \".mpga\", \".ogg\", \".oga\", \".mogg\",\n",
    "         \".opus\", \".qcp\", \".tta\", \".voc\", \".wav\",\n",
    "         \".wma\", \".wv\")\n",
    "video = (\".webm\", \".MTS\", \".M2TS\", \".TS\", \".mov\",\n",
    "         \".mp4\", \".m4p\", \".m4v\", \".mxf\")\n",
    "img = (\".jpg\", \".jpeg\", \".jfif\", \".pjpeg\", \".pjp\", \".png\",\n",
    "       \".gif\", \".webp\", \".svg\", \".apng\", \".avif\")\n",
    "document = (\".doc\", \".pdf\", \".ppt\", \".pps\", \".docx\", \".pptx\")"
   ]
  },
  {
   "cell_type": "markdown",
   "id": "fa20d6f2",
   "metadata": {},
   "source": [
    "**Make Function to group files by extension**"
   ]
  },
  {
   "cell_type": "code",
   "execution_count": 4,
   "id": "9325d437",
   "metadata": {},
   "outputs": [],
   "source": [
    "def is_data(path):\n",
    "    return os.path.splitext(path)[1] == \".csv\"\n",
    "def is_audio(path):\n",
    "    return os.path.splitext(path)[1] in audio\n",
    "def is_video(path):\n",
    "    return os.path.splitext(path)[1] in video\n",
    "def is_image(path):\n",
    "    return os.path.splitext(path)[1] in img\n",
    "def is_screenshot(path):\n",
    "    name, ext = os.path.splitext(path)\n",
    "    return (ext in img) and \"Screenshot\" in name\n",
    "def is_document(path):\n",
    "    return os.path.splitext(path)[1] in document"
   ]
  },
  {
   "cell_type": "markdown",
   "id": "a0ba870e",
   "metadata": {},
   "source": [
    "**Calling list for file in path**"
   ]
  },
  {
   "cell_type": "code",
   "execution_count": 18,
   "id": "551d263e",
   "metadata": {},
   "outputs": [],
   "source": [
    "file_name = os.listdir(path)"
   ]
  },
  {
   "cell_type": "markdown",
   "id": "e7771b62",
   "metadata": {},
   "source": [
    "**checking are folder already there or not, if not create folder**"
   ]
  },
  {
   "cell_type": "code",
   "execution_count": 17,
   "id": "c7d8cbe6",
   "metadata": {},
   "outputs": [],
   "source": [
    "folder_name = ['CSV','Audio', 'Video' ,'Image', 'Document', 'Screenshot', 'Others']\n",
    "    #if not create folder \n",
    "for loop in range(0,7):\n",
    "    if not os.path.exists(path + folder_name[loop]):\n",
    "        print(\"Created\", folder_name[loop])\n",
    "        os.makedirs(path + folder_name[loop])"
   ]
  },
  {
   "cell_type": "markdown",
   "id": "b24efc32",
   "metadata": {},
   "source": [
    "**Moving to correct Folder**"
   ]
  },
  {
   "cell_type": "code",
   "execution_count": 21,
   "id": "55661f7f",
   "metadata": {},
   "outputs": [],
   "source": [
    "for file in file_name:\n",
    "    if is_data(file) and not os.path.exists(path + \"CSV/\" + file):\n",
    "        shutil.move(path + file, path + \"CSV/\" + file) and print(file, \"moved to \", \"CSV/\" + file)\n",
    "    elif is_audio(file) and not os.path.exists(path + \"Audio/\" + file):\n",
    "        shutil.move(path + file, path + \"Audio/\" + file) and print(file, \"moved to \", \"Audio/\" + file)\n",
    "    elif is_video(file) and not os.path.exists(path + \"Video/\" + file):\n",
    "        shutil.move(path + file, path + \"Video/\" + file) and print(file, \"moved to \", \"Video/\" + file)\n",
    "    elif is_image(file) and not os.path.exists(path + \"Image/\" + file):\n",
    "        if is_screenshot(file):\n",
    "            shutil.move(path + file, path + \"Screenshot/\" + file) and print(file, \"moved to \", \"Screenshot/\" + file)\n",
    "        else:\n",
    "            shutil.move(path + file, path + \"Image/\" + file) and print(file, \"moved to \", \"Image/\" + file)\n",
    "    elif is_document(file) and not os.path.exists(path + \"Video/\" + file):\n",
    "        shutil.move(path + file, path + \"Document/\" + file) and print(file, \"moved to \", \"Document/\" + file)"
   ]
  },
  {
   "cell_type": "markdown",
   "id": "e9cf7d8f",
   "metadata": {},
   "source": [
    "## Final Automatic File Sorter in File Explorer"
   ]
  },
  {
   "cell_type": "code",
   "execution_count": 1,
   "id": "e3853485",
   "metadata": {},
   "outputs": [
    {
     "name": "stdout",
     "output_type": "stream",
     "text": [
      "Input your file directories link: C:\\Users\\Fathin Afif\\Downloads\\Fathin File\\Automatic File Sorter Project\n",
      "Created CSV\n",
      "Created Audio\n",
      "Created Video\n",
      "Created Image\n",
      "Created Document\n",
      "Created Screenshot\n",
      "Created Others\n",
      "adalah.docx moved to  Document/adalah.docx\n",
      "Business Profile 1-min.png moved to  Image/Business Profile 1-min.png\n",
      "design proposal.png moved to  Image/design proposal.png\n",
      "ntah apa pun ni.csv moved to  CSV/ntah apa pun ni.csv\n",
      "PasFoto_FathinAfif.png moved to  Image/PasFoto_FathinAfif.png\n",
      "Screenshot 2023-04-01 130612.png moved to  Screenshot/Screenshot 2023-04-01 130612.png\n",
      "Screenshot 2023-04-01 132232.png moved to  Screenshot/Screenshot 2023-04-01 132232.png\n",
      "Screenshot 2023-04-01 232314.png moved to  Screenshot/Screenshot 2023-04-01 232314.png\n",
      "Screenshot 2023-04-01 232408.png moved to  Screenshot/Screenshot 2023-04-01 232408.png\n",
      "Screenshot 2023-04-12 171352.png moved to  Screenshot/Screenshot 2023-04-12 171352.png\n",
      "Screenshot 2023-04-16 181258.png moved to  Screenshot/Screenshot 2023-04-16 181258.png\n",
      "Screenshot 2023-04-16 230047.png moved to  Screenshot/Screenshot 2023-04-16 230047.png\n",
      "Screenshot 2023-04-17 142041.png moved to  Screenshot/Screenshot 2023-04-17 142041.png\n",
      "Screenshot 2023-04-17 142100.png moved to  Screenshot/Screenshot 2023-04-17 142100.png\n",
      "Screenshot 2023-04-17 142119.png moved to  Screenshot/Screenshot 2023-04-17 142119.png\n",
      "Screenshot 2023-04-18 125457.png moved to  Screenshot/Screenshot 2023-04-18 125457.png\n",
      "Screenshot 2023-04-18 125501.png moved to  Screenshot/Screenshot 2023-04-18 125501.png\n",
      "Screenshot 2023-04-18 125549.png moved to  Screenshot/Screenshot 2023-04-18 125549.png\n",
      "Screenshot 2023-04-18 125602.png moved to  Screenshot/Screenshot 2023-04-18 125602.png\n",
      "Screenshot 2023-04-18 125856.png moved to  Screenshot/Screenshot 2023-04-18 125856.png\n",
      "Screenshot 2023-04-18 131423.png moved to  Screenshot/Screenshot 2023-04-18 131423.png\n",
      "Screenshot 2023-04-18 133749.png moved to  Screenshot/Screenshot 2023-04-18 133749.png\n",
      "Screenshot 2023-04-18 140954.png moved to  Screenshot/Screenshot 2023-04-18 140954.png\n",
      "Screenshot 2023-04-18 161302.png moved to  Screenshot/Screenshot 2023-04-18 161302.png\n",
      "serenity_-_lofi_hip_hop_beat_FREE_(getmp3.pro).mp3 moved to  Audio/serenity_-_lofi_hip_hop_beat_FREE_(getmp3.pro).mp3\n",
      "video kosong.mp4 moved to  Video/video kosong.mp4\n",
      "WhatsApp Image 2023-04-04 at 12.59.57 PM.jpeg moved to  Image/WhatsApp Image 2023-04-04 at 12.59.57 PM.jpeg\n"
     ]
    }
   ],
   "source": [
    "import os\n",
    "import shutil\n",
    "\n",
    "#Make Tuples for data of extension file\n",
    "audio = (\".3ga\", \".aac\", \".ac3\", \".aif\", \".aiff\",\n",
    "         \".alac\", \".amr\", \".ape\", \".au\", \".dss\",\n",
    "         \".flac\", \".flv\", \".m4a\", \".m4b\", \".m4p\",\n",
    "         \".mp3\", \".mpga\", \".ogg\", \".oga\", \".mogg\",\n",
    "         \".opus\", \".qcp\", \".tta\", \".voc\", \".wav\",\n",
    "         \".wma\", \".wv\")\n",
    "video = (\".webm\", \".MTS\", \".M2TS\", \".TS\", \".mov\",\n",
    "         \".mp4\", \".m4p\", \".m4v\", \".mxf\")\n",
    "img = (\".jpg\", \".jpeg\", \".jfif\", \".pjpeg\", \".pjp\", \".png\",\n",
    "       \".gif\", \".webp\", \".svg\", \".apng\", \".avif\")\n",
    "document = (\".doc\", \".pdf\", \".ppt\", \".pps\", \".docx\", \".pptx\")\n",
    "\n",
    "#Make input features for input file directories\n",
    "ipath = input(str(\"Input your file directories link: \"))\n",
    "fipath = ipath.replace (\"\\\\\", \"/\") + \"/\"\n",
    "path = (fipath)\n",
    "\n",
    "#Make Function to group files by extension\n",
    "def is_data(path):\n",
    "    return os.path.splitext(path)[1] == \".csv\"\n",
    "def is_audio(path):\n",
    "    return os.path.splitext(path)[1] in audio\n",
    "def is_video(path):\n",
    "    return os.path.splitext(path)[1] in video\n",
    "def is_image(path):\n",
    "    return os.path.splitext(path)[1] in img\n",
    "def is_screenshot(path):\n",
    "    name, ext = os.path.splitext(path)\n",
    "    return (ext in img) and \"Screenshot\" in name\n",
    "def is_document(path):\n",
    "    return os.path.splitext(path)[1] in document\n",
    "\n",
    "#Calling list for file in path\n",
    "file_name = os.listdir(path)\n",
    "\n",
    "#checking are folder already there or not\n",
    "folder_name = ['CSV','Audio', 'Video' ,'Image', 'Document', 'Screenshot', 'Others']\n",
    "    #if not create folder \n",
    "for loop in range(0,7):\n",
    "    if not os.path.exists(path + folder_name[loop]):\n",
    "        print(\"Created\", folder_name[loop])\n",
    "        os.makedirs(path + folder_name[loop])\n",
    "\n",
    "#Moving to correct Folder       \n",
    "for file in file_name:\n",
    "    if is_data(file) and not os.path.exists(path + \"CSV/\" + file):\n",
    "        shutil.move(path + file, path + \"CSV/\" + file) and print(file, \"moved to \", \"CSV/\" + file)\n",
    "    elif is_audio(file) and not os.path.exists(path + \"Audio/\" + file):\n",
    "        shutil.move(path + file, path + \"Audio/\" + file) and print(file, \"moved to \", \"Audio/\" + file)\n",
    "    elif is_video(file) and not os.path.exists(path + \"Video/\" + file):\n",
    "        shutil.move(path + file, path + \"Video/\" + file) and print(file, \"moved to \", \"Video/\" + file)\n",
    "    elif is_image(file) and not os.path.exists(path + \"Image/\" + file):\n",
    "        if is_screenshot(file):\n",
    "            shutil.move(path + file, path + \"Screenshot/\" + file) and print(file, \"moved to \", \"Screenshot/\" + file)\n",
    "        else:\n",
    "            shutil.move(path + file, path + \"Image/\" + file) and print(file, \"moved to \", \"Image/\" + file)\n",
    "    elif is_document(file) and not os.path.exists(path + \"Video/\" + file):\n",
    "        shutil.move(path + file, path + \"Document/\" + file) and print(file, \"moved to \", \"Document/\" + file)"
   ]
  },
  {
   "cell_type": "code",
   "execution_count": null,
   "id": "0102689c",
   "metadata": {},
   "outputs": [],
   "source": []
  }
 ],
 "metadata": {
  "kernelspec": {
   "display_name": "Python 3 (ipykernel)",
   "language": "python",
   "name": "python3"
  },
  "language_info": {
   "codemirror_mode": {
    "name": "ipython",
    "version": 3
   },
   "file_extension": ".py",
   "mimetype": "text/x-python",
   "name": "python",
   "nbconvert_exporter": "python",
   "pygments_lexer": "ipython3",
   "version": "3.10.9"
  }
 },
 "nbformat": 4,
 "nbformat_minor": 5
}
